{
  "nbformat": 4,
  "nbformat_minor": 0,
  "metadata": {
    "colab": {
      "provenance": [],
      "include_colab_link": true
    },
    "kernelspec": {
      "name": "python3",
      "display_name": "Python 3"
    },
    "language_info": {
      "name": "python"
    }
  },
  "cells": [
    {
      "cell_type": "markdown",
      "metadata": {
        "id": "view-in-github",
        "colab_type": "text"
      },
      "source": [
        "<a href=\"https://colab.research.google.com/github/umaseershika45/3-1_ML_LABS/blob/main/Experiment7.ipynb\" target=\"_parent\"><img src=\"https://colab.research.google.com/assets/colab-badge.svg\" alt=\"Open In Colab\"/></a>"
      ]
    },
    {
      "cell_type": "code",
      "source": [
        "import numpy as np\n",
        "\n",
        "# Input data\n",
        "X = np.array(([2, 9], [1, 5], [3, 6]), dtype=float)\n",
        "y = np.array(([92], [86], [89]), dtype=float)\n",
        "\n",
        "# Normalize the input features (X) and target (y)\n",
        "X = X / np.amax(X, axis=0)  # Max of X array along the columns\n",
        "y = y / 100  # Normalize target output to scale [0, 1]\n",
        "\n",
        "# Sigmoid function\n",
        "def sigmoid(x):\n",
        "    return 1 / (1 + np.exp(-x))\n",
        "\n",
        "# Derivative of sigmoid function\n",
        "def derivatives_sigmoid(x):\n",
        "    return x * (1 - x)\n",
        "\n",
        "# Variable initialization\n",
        "epoch = 5000  # Setting training iterations\n",
        "lr = 0.1  # Setting learning rate\n",
        "inputlayer_neurons = 2  # Number of features in the input data\n",
        "hiddenlayer_neurons = 3  # Number of neurons in the hidden layer\n",
        "output_neurons = 1  # Number of neurons in the output layer\n",
        "\n",
        "# Weight and bias initialization\n",
        "wh = np.random.uniform(size=(inputlayer_neurons, hiddenlayer_neurons))  # Weights for input to hidden layer\n",
        "bh = np.random.uniform(size=(1, hiddenlayer_neurons))  # Bias for hidden layer\n",
        "wout = np.random.uniform(size=(hiddenlayer_neurons, output_neurons))  # Weights for hidden to output layer\n",
        "bout = np.random.uniform(size=(1, output_neurons))  # Bias for output layer\n",
        "\n",
        "# Training the neural network\n",
        "for i in range(epoch):\n",
        "    # Forward propagation\n",
        "    hinp1 = np.dot(X, wh)  # Input to the hidden layer\n",
        "    hinp = hinp1 + bh  # Add bias to the hidden layer input\n",
        "    hlayer_act = sigmoid(hinp)  # Activation for hidden layer\n",
        "\n",
        "    outinp1 = np.dot(hlayer_act, wout)  # Input to the output layer\n",
        "    outinp = outinp1 + bout  # Add bias to the output layer\n",
        "    output = sigmoid(outinp)  # Activation for output layer (predicted output)\n",
        "\n",
        "    # Backpropagation\n",
        "    EO = y - output  # Error at output\n",
        "    outgrad = derivatives_sigmoid(output)  # Gradient at output layer\n",
        "    d_output = EO * outgrad  # Delta at output layer\n",
        "\n",
        "    EH = d_output.dot(wout.T)  # Error at hidden layer\n",
        "    hiddengrad = derivatives_sigmoid(hlayer_act)  # Gradient at hidden layer\n",
        "    d_hiddenlayer = EH * hiddengrad  # Delta at hidden layer\n",
        "\n",
        "    # Updating weights and biases\n",
        "    wout += hlayer_act.T.dot(d_output) * lr  # Update weights from hidden to output layer\n",
        "    bout += np.sum(d_output, axis=0, keepdims=True) * lr  # Update output layer bias\n",
        "    wh += X.T.dot(d_hiddenlayer) * lr  # Update weights from input to hidden layer\n",
        "    bh += np.sum(d_hiddenlayer, axis=0, keepdims=True) * lr  # Update hidden layer bias\n",
        "\n",
        "# Output the final result\n",
        "print(\"Input: \\n\" + str(X))\n",
        "print(\"Actual Output: \\n\" + str(y))\n",
        "print(\"Predicted Output: \\n\" + str(output))"
      ],
      "metadata": {
        "id": "dddlRLVG-5IK",
        "outputId": "6891ee76-2e83-4b31-b3b9-aa78f74acbad",
        "colab": {
          "base_uri": "https://localhost:8080/"
        }
      },
      "execution_count": 1,
      "outputs": [
        {
          "output_type": "stream",
          "name": "stdout",
          "text": [
            "Input: \n",
            "[[0.66666667 1.        ]\n",
            " [0.33333333 0.55555556]\n",
            " [1.         0.66666667]]\n",
            "Actual Output: \n",
            "[[0.92]\n",
            " [0.86]\n",
            " [0.89]]\n",
            "Predicted Output: \n",
            "[[0.89262337]\n",
            " [0.88148794]\n",
            " [0.89526535]]\n"
          ]
        }
      ]
    }
  ]
}