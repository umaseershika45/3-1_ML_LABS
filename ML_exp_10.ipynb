{
  "nbformat": 4,
  "nbformat_minor": 0,
  "metadata": {
    "colab": {
      "provenance": [],
      "include_colab_link": true
    },
    "kernelspec": {
      "name": "python3",
      "display_name": "Python 3"
    },
    "language_info": {
      "name": "python"
    }
  },
  "cells": [
    {
      "cell_type": "markdown",
      "metadata": {
        "id": "view-in-github",
        "colab_type": "text"
      },
      "source": [
        "<a href=\"https://colab.research.google.com/github/umaseershika45/3-1_ML_LABS/blob/main/ML_exp_10.ipynb\" target=\"_parent\"><img src=\"https://colab.research.google.com/assets/colab-badge.svg\" alt=\"Open In Colab\"/></a>"
      ]
    },
    {
      "cell_type": "markdown",
      "source": [
        "# **Experiment - 10:**\n",
        "\n",
        "\n",
        "AIM: Assuming a set of Documents that need to be classified, use the naive Bayesian Classifier model to perform thi\n",
        "s task. Built - in Java classes API can be used to write the program. Calculate the accuracy, Precision and recall for\n",
        "your dataset."
      ],
      "metadata": {
        "id": "eJlpwsHSvJFB"
      }
    },
    {
      "cell_type": "code",
      "source": [
        "import pandas as pd\n",
        "from sklearn.model_selection import train_test_split\n",
        "from sklearn.feature_extraction.text import CountVectorizer\n",
        "from sklearn.naive_bayes import MultinomialNB\n",
        "from sklearn import metrics\n",
        "\n",
        "# Load the dataset\n",
        "msg = pd.read_csv(\"/content/naivetext.csv\", names=[\"message\", \"label\"])\n",
        "print(\"The dimensions of the dataset:\", msg.shape)\n",
        "\n",
        "\n",
        "# Map labels to numbers\n",
        "msg[\"labelnum\"] = msg.label.map({\"pos\": 1, \"neg\": 0})\n",
        "X = msg.message\n",
        "Y = msg.labelnum\n",
        "\n",
        "# Print the messages and labels\n",
        "print(X)\n",
        "print(Y)\n",
        "\n",
        "# Split the dataset into training and testing sets\n",
        "X_train, X_test, Y_train, Y_test = train_test_split(X, Y)\n",
        "\n",
        "print(\"\\nThe total number of training data:\", Y_train.shape)\n",
        "print(\"\\nThe total number of test data:\", Y_test.shape)\n",
        "\n",
        "# Vectorize the text data\n",
        "count_vect = CountVectorizer()\n",
        "X_train_dtm = count_vect.fit_transform(X_train)\n",
        "X_test_dtm = count_vect.transform(X_test)\n",
        "\n",
        "print(\"\\nThe words or tokens in the text documents:\")\n",
        "print(count_vect.get_feature_names_out())\n",
        "\n",
        "# Train the model\n",
        "df = MultinomialNB().fit(X_train_dtm, Y_train)\n",
        "\n",
        "# Make predictions\n",
        "predicted = df.predict(X_test_dtm)\n",
        "\n",
        "# Evaluate the model\n",
        "print(\"\\nAccuracy of the classifier is:\", metrics.accuracy_score(Y_test, predicted))\n",
        "print(\"\\nConfusion matrix:\")\n",
        "print(metrics.confusion_matrix(Y_test, predicted))\n",
        "print(\"\\nConfusion score:\", metrics.f1_score(Y_test, predicted))\n",
        "print(\"\\nThe values of recall:\", metrics.recall_score(Y_test, predicted))\n"
      ],
      "metadata": {
        "colab": {
          "base_uri": "https://localhost:8080/"
        },
        "id": "PRr3gIkGv-Ag",
        "outputId": "9000f2ee-9150-46c3-cff2-92fdf4db00d9"
      },
      "execution_count": 2,
      "outputs": [
        {
          "output_type": "stream",
          "name": "stdout",
          "text": [
            "The dimensions of the dataset: (18, 2)\n",
            "1                      I love this sandwich\n",
            "2                  This is an amazing place\n",
            "3        I feel very good about these beers\n",
            "4                      This is my best work\n",
            "5                      What an awesome view\n",
            "6             I do not like this restaurant\n",
            "7                  I am tired of this stuff\n",
            "8                    I can't deal with this\n",
            "9                      He is my sworn enemy\n",
            "10                      My boss is horrible\n",
            "11                 This is an awesome place\n",
            "12    I do not like the taste of this juice\n",
            "13                          I love to dance\n",
            "14        I am sick and tired of this place\n",
            "15                     What a great holiday\n",
            "16           That is a bad locality to stay\n",
            "17           We will have good fun tomorrow\n",
            "18         I went to my enemy's house today\n",
            "Name: message, dtype: object\n",
            "1     1\n",
            "2     1\n",
            "3     1\n",
            "4     1\n",
            "5     1\n",
            "6     0\n",
            "7     0\n",
            "8     0\n",
            "9     0\n",
            "10    0\n",
            "11    1\n",
            "12    0\n",
            "13    1\n",
            "14    0\n",
            "15    1\n",
            "16    0\n",
            "17    1\n",
            "18    0\n",
            "Name: labelnum, dtype: int64\n",
            "\n",
            "The total number of training data: (13,)\n",
            "\n",
            "The total number of test data: (5,)\n",
            "\n",
            "The words or tokens in the text documents:\n",
            "['am' 'amazing' 'an' 'and' 'awesome' 'bad' 'best' 'boss' 'dance' 'do'\n",
            " 'enemy' 'fun' 'good' 'have' 'he' 'horrible' 'is' 'juice' 'like'\n",
            " 'locality' 'love' 'my' 'not' 'of' 'place' 'restaurant' 'sandwich' 'sick'\n",
            " 'stay' 'stuff' 'sworn' 'taste' 'that' 'the' 'this' 'tired' 'to'\n",
            " 'tomorrow' 'view' 'we' 'what' 'will' 'work']\n",
            "\n",
            "Accuracy of the classifier is: 1.0\n",
            "\n",
            "Confusion matrix:\n",
            "[[2 0]\n",
            " [0 3]]\n",
            "\n",
            "Confusion score: 1.0\n",
            "\n",
            "The values of recall: 1.0\n"
          ]
        }
      ]
    },
    {
      "cell_type": "code",
      "source": [
        "\n",
        "import pandas as pd\n",
        "from sklearn.model_selection import train_test_split\n",
        "from sklearn.feature_extraction.text import CountVectorizer\n",
        "from sklearn.naive_bayes import MultinomialNB\n",
        "from sklearn import metrics\n",
        "msg=pd.read_csv(\"naivetext.csv\",names=[\"message\",\"label\"])\n",
        "print(\" The dimensions of the dataset\", msg.shape)\n",
        "msg[\"labelnum\"]=msg.label.map({\"pos\":1,\"neg\":0})\n",
        "X=msg.message\n",
        "Y=msg.labelnum\n",
        "print(X)\n",
        "print(Y)\n",
        "X_train,X test, Y train, Y test = train_test_split(X,Y)\n",
        "print(\"\\n the total no. of training data:\", y train, shape)\n",
        "print(\"\\n the total no. of test data:\", y test, shape)\n",
        "Count_Vect=CountVectorizer()\n",
        "X train_dtm=Count_Vect.fit_transform(X train)\n",
        "X test_dtm=Count_Vect.transform(X test)\n",
        "print(\"\\n the words or tokens in the text documents \\n\")\n",
        "print(Count_Vect.get=feature_names())\n",
        "df=Multinominal NB().fit(X train_dtm, Y train)\n",
        "predicted=df.predict(xtest_dtm)\n",
        "print(\"\\n Accuracy of the classifier is\", metrics.accuracy_score(Y test, predicted))\n",
        "print(\"\\n confusion matrix\")\n",
        "print(metrics.confusion_matrix(Y test, predicted))\n",
        "print(metrics.confusion_score(Y test, predicted))\n",
        "print(\"\\n the values of recall\", metrics.recall_score(Y test, predicted))"
      ],
      "metadata": {
        "id": "TXK1Dl0SUplA",
        "outputId": "792e72b4-bfb4-4362-f670-f22beb98c11a",
        "colab": {
          "base_uri": "https://localhost:8080/",
          "height": 106
        }
      },
      "execution_count": 4,
      "outputs": [
        {
          "ename": "SyntaxError",
          "evalue": "invalid syntax. Maybe you meant '==' or ':=' instead of '='? (<ipython-input-4-d6075737c394>, line 13)",
          "output_type": "error",
          "traceback": [
            "\u001b[0;36m  File \u001b[0;32m\"<ipython-input-4-d6075737c394>\"\u001b[0;36m, line \u001b[0;32m13\u001b[0m\n\u001b[0;31m    X_train,X test, Y train, Y test = train_test_split(X,Y)\u001b[0m\n\u001b[0m                               ^\u001b[0m\n\u001b[0;31mSyntaxError\u001b[0m\u001b[0;31m:\u001b[0m invalid syntax. Maybe you meant '==' or ':=' instead of '='?\n"
          ]
        }
      ]
    }
  ]
}